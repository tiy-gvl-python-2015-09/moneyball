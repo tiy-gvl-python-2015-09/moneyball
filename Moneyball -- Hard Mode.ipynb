{
 "cells": [
  {
   "cell_type": "markdown",
   "metadata": {},
   "source": [
    "To determine the best players, position players had to play a minimum of 50 games at the position they were selected for.  Pitchers had to have at least 10 plate appearances to be selected."
   ]
  },
  {
   "cell_type": "code",
   "execution_count": 1,
   "metadata": {
    "collapsed": true
   },
   "outputs": [],
   "source": [
    "import pandas as pd\n",
    "import numpy as np\n",
    "import matplotlib.pyplot as plt\n",
    "%matplotlib inline"
   ]
  },
  {
   "cell_type": "code",
   "execution_count": 39,
   "metadata": {
    "collapsed": true
   },
   "outputs": [],
   "source": [
    "my_90s_team = {\"Player\": [\"Allen Watson\", \"Michael Barrett\", \"Jeff Bagwell\", \"Chuck Knoblauch\", \"Corey Koskie\", \"Derek Jeter\", \"Barry Bonds\", \"Preston Wilson\", \"Bobby Higginson\"], \"Position\": [\"P\", \"C\", \"1B\", \"2B\", \"3B\", \"SS\", \"LF\", \"CF\", \"RF\"], \"Year\": [\"1995\", \"1999\", \"1994\", \"1992\", \"1999\", \"1996\", \"1990\", \"1999\", \"1996\"], \"Salary\": [155000, 200500, 2525000, 325000, 200000, 130000, 850000, 201000, 170000], \"OBP\": [0.447, 0.345, 0.451, 0.384, 0.387, 0.370, 0.406, 0.350, 0.404]}"
   ]
  },
  {
   "cell_type": "code",
   "execution_count": 2,
   "metadata": {
    "collapsed": false
   },
   "outputs": [],
   "source": [
    "batting = pd.read_csv(\"data/Batting.csv\")\n",
    "salaries = pd.read_csv(\"data/Salaries.csv\")\n",
    "master = pd.read_csv(\"data/Master.csv\")\n",
    "appearances = pd.read_csv(\"data/Appearances.csv\")"
   ]
  },
  {
   "cell_type": "code",
   "execution_count": 3,
   "metadata": {
    "collapsed": false
   },
   "outputs": [],
   "source": [
    "master = master.drop([\"birthYear\", \"birthMonth\", \"birthDay\", \"birthCountry\", \"birthState\", \"birthCity\", \"deathYear\", \"deathMonth\", \"deathDay\", \"weight\", \"height\", \"bats\", \"throws\", \"debut\", \"finalGame\", \"retroID\", \"bbrefID\"], axis=1)\n",
    "master = master.drop([\"deathCountry\", \"deathState\", \"deathCity\", \"nameGiven\"], axis=1)"
   ]
  },
  {
   "cell_type": "code",
   "execution_count": 4,
   "metadata": {
    "collapsed": false
   },
   "outputs": [],
   "source": [
    "batting_90s = batting[batting.yearID.isin([1990, 1991, 1992, 1993, 1994, 1995, 1996, 1997, 1998, 1999])]\n",
    "salaries_90s = salaries[salaries.yearID.isin([1990, 1991, 1992, 1993, 1994, 1995, 1996, 1997, 1998, 1999])]\n",
    "appearances_90s = appearances[appearances.yearID.isin([1990, 1991, 1992, 1993, 1994, 1995, 1996, 1997, 1998, 1999])]\n",
    "everything_90s = pd.merge(batting_90s, salaries_90s, how=\"inner\", left_on=[\"yearID\", \"playerID\"], right_on=[\"yearID\", \"playerID\"])\n",
    "everything_90s = pd.merge(everything_90s, appearances_90s, how=\"inner\", left_on=[\"yearID\", \"playerID\"], right_on=[\"yearID\", \"playerID\"])"
   ]
  },
  {
   "cell_type": "code",
   "execution_count": 5,
   "metadata": {
    "collapsed": false
   },
   "outputs": [],
   "source": [
    "everything_90s = everything_90s.set_index([\"playerID\"])\n",
    "everything_90s = everything_90s.drop([\"stint\", \"teamID_x\", \"lgID_x\", \"lgID_y\"], axis=1)\n",
    "everything_90s = everything_90s.drop([\"teamID\", \"lgID\", \"G_all\", \"GS\", \"G_batting\", \"G_defense\", \"G_pr\", \"G_ph\", \"G_dh\"], axis=1)\n",
    "everything_90s = everything_90s.drop([\"R\", \"2B\", \"3B\", \"HR\", \"RBI\", \"SB\", \"CS\", \"SO\", \"SH\", \"GIDP\", \"IBB\"], axis=1)"
   ]
  },
  {
   "cell_type": "code",
   "execution_count": 7,
   "metadata": {
    "collapsed": false,
    "scrolled": true
   },
   "outputs": [],
   "source": [
    "everything_90s = everything_90s.sort(axis=0)\n",
    "everything_90s[\"OBP\"] = (everything_90s.H + everything_90s.HBP + everything_90s.BB) / (everything_90s.AB + everything_90s.BB + everything_90s.HBP +everything_90s.SF)\n",
    "everything_90s = everything_90s[pd.notnull(everything_90s['OBP'])]\n",
    "everything_90s = everything_90s.drop_duplicates([\"yearID\", \"G\", \"AB\"])\n",
    "everything_90s = everything_90s.drop([\"H\", \"BB\", \"HBP\", \"SF\"], axis=1)"
   ]
  },
  {
   "cell_type": "code",
   "execution_count": 8,
   "metadata": {
    "collapsed": false
   },
   "outputs": [],
   "source": [
    "everything_hitters_90s = everything_90s.drop(everything_90s[everything_90s.G < 100].index)\n",
    "everything_hitters_90s = pd.merge(everything_hitters_90s, master, how=\"inner\", left_index=True, right_on=\"playerID\")\n",
    "everything_hitters_90s = everything_hitters_90s.set_index([\"playerID\"])\n",
    "everything_hitters_90s = everything_hitters_90s.sort(columns='OBP', axis=0, ascending=False)\n",
    "everything_hitters_90s = everything_hitters_90s.drop([\"teamID_y\", \"G_p\", \"G_of\"], axis=1)"
   ]
  },
  {
   "cell_type": "code",
   "execution_count": 11,
   "metadata": {
    "collapsed": false
   },
   "outputs": [],
   "source": []
  },
  {
   "cell_type": "code",
   "execution_count": 12,
   "metadata": {
    "collapsed": false
   },
   "outputs": [
    {
     "data": {
      "text/html": [
       "<div>\n",
       "<table border=\"1\" class=\"dataframe\">\n",
       "  <thead>\n",
       "    <tr style=\"text-align: right;\">\n",
       "      <th></th>\n",
       "      <th>yearID</th>\n",
       "      <th>G</th>\n",
       "      <th>AB</th>\n",
       "      <th>salary</th>\n",
       "      <th>G_c</th>\n",
       "      <th>G_1b</th>\n",
       "      <th>G_2b</th>\n",
       "      <th>G_3b</th>\n",
       "      <th>G_ss</th>\n",
       "      <th>G_lf</th>\n",
       "      <th>G_cf</th>\n",
       "      <th>G_rf</th>\n",
       "      <th>OBP</th>\n",
       "      <th>nameFirst</th>\n",
       "      <th>nameLast</th>\n",
       "    </tr>\n",
       "    <tr>\n",
       "      <th>playerID</th>\n",
       "      <th></th>\n",
       "      <th></th>\n",
       "      <th></th>\n",
       "      <th></th>\n",
       "      <th></th>\n",
       "      <th></th>\n",
       "      <th></th>\n",
       "      <th></th>\n",
       "      <th></th>\n",
       "      <th></th>\n",
       "      <th></th>\n",
       "      <th></th>\n",
       "      <th></th>\n",
       "      <th></th>\n",
       "      <th></th>\n",
       "    </tr>\n",
       "  </thead>\n",
       "  <tbody>\n",
       "    <tr>\n",
       "      <th>thomafr04</th>\n",
       "      <td>1994</td>\n",
       "      <td>113</td>\n",
       "      <td>399</td>\n",
       "      <td>2755000</td>\n",
       "      <td>0</td>\n",
       "      <td>99</td>\n",
       "      <td>0</td>\n",
       "      <td>0</td>\n",
       "      <td>0</td>\n",
       "      <td>0</td>\n",
       "      <td>0</td>\n",
       "      <td>0</td>\n",
       "      <td>0.487427</td>\n",
       "      <td>Frank</td>\n",
       "      <td>Thomas</td>\n",
       "    </tr>\n",
       "    <tr>\n",
       "      <th>olerujo01</th>\n",
       "      <td>1993</td>\n",
       "      <td>158</td>\n",
       "      <td>551</td>\n",
       "      <td>1562500</td>\n",
       "      <td>0</td>\n",
       "      <td>137</td>\n",
       "      <td>0</td>\n",
       "      <td>0</td>\n",
       "      <td>0</td>\n",
       "      <td>0</td>\n",
       "      <td>0</td>\n",
       "      <td>0</td>\n",
       "      <td>0.472754</td>\n",
       "      <td>John</td>\n",
       "      <td>Olerud</td>\n",
       "    </tr>\n",
       "    <tr>\n",
       "      <th>bondsba01</th>\n",
       "      <td>1996</td>\n",
       "      <td>158</td>\n",
       "      <td>517</td>\n",
       "      <td>8416667</td>\n",
       "      <td>0</td>\n",
       "      <td>0</td>\n",
       "      <td>0</td>\n",
       "      <td>0</td>\n",
       "      <td>0</td>\n",
       "      <td>149</td>\n",
       "      <td>6</td>\n",
       "      <td>0</td>\n",
       "      <td>0.460741</td>\n",
       "      <td>Barry</td>\n",
       "      <td>Bonds</td>\n",
       "    </tr>\n",
       "    <tr>\n",
       "      <th>oneilpa01</th>\n",
       "      <td>1994</td>\n",
       "      <td>103</td>\n",
       "      <td>368</td>\n",
       "      <td>3858334</td>\n",
       "      <td>0</td>\n",
       "      <td>0</td>\n",
       "      <td>0</td>\n",
       "      <td>0</td>\n",
       "      <td>0</td>\n",
       "      <td>12</td>\n",
       "      <td>0</td>\n",
       "      <td>90</td>\n",
       "      <td>0.460497</td>\n",
       "      <td>Paul</td>\n",
       "      <td>O'Neill</td>\n",
       "    </tr>\n",
       "    <tr>\n",
       "      <th>thomafr04</th>\n",
       "      <td>1996</td>\n",
       "      <td>141</td>\n",
       "      <td>527</td>\n",
       "      <td>7150000</td>\n",
       "      <td>0</td>\n",
       "      <td>139</td>\n",
       "      <td>0</td>\n",
       "      <td>0</td>\n",
       "      <td>0</td>\n",
       "      <td>0</td>\n",
       "      <td>0</td>\n",
       "      <td>0</td>\n",
       "      <td>0.459168</td>\n",
       "      <td>Frank</td>\n",
       "      <td>Thomas</td>\n",
       "    </tr>\n",
       "  </tbody>\n",
       "</table>\n",
       "</div>"
      ],
      "text/plain": [
       "           yearID    G   AB   salary  G_c  G_1b  G_2b  G_3b  G_ss  G_lf  G_cf  \\\n",
       "playerID                                                                        \n",
       "thomafr04    1994  113  399  2755000    0    99     0     0     0     0     0   \n",
       "olerujo01    1993  158  551  1562500    0   137     0     0     0     0     0   \n",
       "bondsba01    1996  158  517  8416667    0     0     0     0     0   149     6   \n",
       "oneilpa01    1994  103  368  3858334    0     0     0     0     0    12     0   \n",
       "thomafr04    1996  141  527  7150000    0   139     0     0     0     0     0   \n",
       "\n",
       "           G_rf       OBP nameFirst nameLast  \n",
       "playerID                                      \n",
       "thomafr04     0  0.487427     Frank   Thomas  \n",
       "olerujo01     0  0.472754      John   Olerud  \n",
       "bondsba01     0  0.460741     Barry    Bonds  \n",
       "oneilpa01    90  0.460497      Paul  O'Neill  \n",
       "thomafr04     0  0.459168     Frank   Thomas  "
      ]
     },
     "execution_count": 12,
     "metadata": {},
     "output_type": "execute_result"
    }
   ],
   "source": [
    "everything_hitters_90s.head()"
   ]
  },
  {
   "cell_type": "code",
   "execution_count": 17,
   "metadata": {
    "collapsed": true
   },
   "outputs": [],
   "source": [
    "hit_90s_c = everything_hitters_90s[[\"yearID\", \"G\", \"AB\", \"G_c\", \"nameFirst\", \"nameLast\", \"salary\", \"OBP\"]]\n",
    "hit_90s_1b = everything_hitters_90s[[\"yearID\", \"G\", \"AB\", \"G_1b\", \"nameFirst\", \"nameLast\", \"salary\", \"OBP\"]]\n",
    "hit_90s_2b = everything_hitters_90s[[\"yearID\", \"G\", \"AB\", \"G_2b\", \"nameFirst\", \"nameLast\", \"salary\", \"OBP\"]]\n",
    "hit_90s_3b = everything_hitters_90s[[\"yearID\", \"G\", \"AB\", \"G_3b\", \"nameFirst\", \"nameLast\", \"salary\", \"OBP\"]]\n",
    "hit_90s_ss = everything_hitters_90s[[\"yearID\", \"G\", \"AB\", \"G_ss\", \"nameFirst\", \"nameLast\", \"salary\", \"OBP\"]]\n",
    "hit_90s_lf = everything_hitters_90s[[\"yearID\", \"G\", \"AB\", \"G_lf\", \"nameFirst\", \"nameLast\", \"salary\", \"OBP\"]]\n",
    "hit_90s_cf = everything_hitters_90s[[\"yearID\", \"G\", \"AB\", \"G_cf\", \"nameFirst\", \"nameLast\", \"salary\", \"OBP\"]]\n",
    "hit_90s_rf = everything_hitters_90s[[\"yearID\", \"G\", \"AB\", \"G_rf\", \"nameFirst\", \"nameLast\", \"salary\", \"OBP\"]]\n",
    "hit_90s_c = hit_90s_c.drop(hit_90s_c[hit_90s_c.G_c < 50].index)\n",
    "hit_90s_1b = hit_90s_1b.drop(hit_90s_1b[hit_90s_1b.G_1b < 50].index)\n",
    "hit_90s_2b = hit_90s_2b.drop(hit_90s_2b[hit_90s_2b.G_2b < 50].index)\n",
    "hit_90s_3b = hit_90s_3b.drop(hit_90s_3b[hit_90s_3b.G_3b < 50].index)\n",
    "hit_90s_ss = hit_90s_ss.drop(hit_90s_ss[hit_90s_ss.G_ss < 50].index)\n",
    "hit_90s_lf = hit_90s_lf.drop(hit_90s_lf[hit_90s_lf.G_lf < 50].index)\n",
    "hit_90s_cf = hit_90s_cf.drop(hit_90s_cf[hit_90s_cf.G_cf < 50].index)\n",
    "hit_90s_rf = hit_90s_rf.drop(hit_90s_rf[hit_90s_rf.G_rf < 50].index)"
   ]
  },
  {
   "cell_type": "code",
   "execution_count": 21,
   "metadata": {
    "collapsed": false
   },
   "outputs": [],
   "source": []
  },
  {
   "cell_type": "code",
   "execution_count": 20,
   "metadata": {
    "collapsed": false
   },
   "outputs": [
    {
     "data": {
      "text/html": [
       "<div>\n",
       "<table border=\"1\" class=\"dataframe\">\n",
       "  <thead>\n",
       "    <tr style=\"text-align: right;\">\n",
       "      <th></th>\n",
       "      <th>yearID</th>\n",
       "      <th>G</th>\n",
       "      <th>AB</th>\n",
       "      <th>G_c</th>\n",
       "      <th>nameFirst</th>\n",
       "      <th>nameLast</th>\n",
       "      <th>salary</th>\n",
       "      <th>OBP</th>\n",
       "    </tr>\n",
       "    <tr>\n",
       "      <th>playerID</th>\n",
       "      <th></th>\n",
       "      <th></th>\n",
       "      <th></th>\n",
       "      <th></th>\n",
       "      <th></th>\n",
       "      <th></th>\n",
       "      <th></th>\n",
       "      <th></th>\n",
       "    </tr>\n",
       "  </thead>\n",
       "  <tbody>\n",
       "    <tr>\n",
       "      <th>steinte01</th>\n",
       "      <td>1999</td>\n",
       "      <td>101</td>\n",
       "      <td>338</td>\n",
       "      <td>96</td>\n",
       "      <td>Terry</td>\n",
       "      <td>Steinbach</td>\n",
       "      <td>1000000</td>\n",
       "      <td>0.357895</td>\n",
       "    </tr>\n",
       "    <tr>\n",
       "      <th>sciosmi01</th>\n",
       "      <td>1991</td>\n",
       "      <td>119</td>\n",
       "      <td>345</td>\n",
       "      <td>115</td>\n",
       "      <td>Mike</td>\n",
       "      <td>Scioscia</td>\n",
       "      <td>2183333</td>\n",
       "      <td>0.353383</td>\n",
       "    </tr>\n",
       "    <tr>\n",
       "      <th>sciosmi01</th>\n",
       "      <td>1990</td>\n",
       "      <td>135</td>\n",
       "      <td>435</td>\n",
       "      <td>132</td>\n",
       "      <td>Mike</td>\n",
       "      <td>Scioscia</td>\n",
       "      <td>1233333</td>\n",
       "      <td>0.348089</td>\n",
       "    </tr>\n",
       "    <tr>\n",
       "      <th>barremi01</th>\n",
       "      <td>1999</td>\n",
       "      <td>126</td>\n",
       "      <td>433</td>\n",
       "      <td>59</td>\n",
       "      <td>Michael</td>\n",
       "      <td>Barrett</td>\n",
       "      <td>200500</td>\n",
       "      <td>0.345416</td>\n",
       "    </tr>\n",
       "    <tr>\n",
       "      <th>steinte01</th>\n",
       "      <td>1996</td>\n",
       "      <td>145</td>\n",
       "      <td>514</td>\n",
       "      <td>137</td>\n",
       "      <td>Terry</td>\n",
       "      <td>Steinbach</td>\n",
       "      <td>4200000</td>\n",
       "      <td>0.341506</td>\n",
       "    </tr>\n",
       "  </tbody>\n",
       "</table>\n",
       "</div>"
      ],
      "text/plain": [
       "           yearID    G   AB  G_c nameFirst   nameLast   salary       OBP\n",
       "playerID                                                                \n",
       "steinte01    1999  101  338   96     Terry  Steinbach  1000000  0.357895\n",
       "sciosmi01    1991  119  345  115      Mike   Scioscia  2183333  0.353383\n",
       "sciosmi01    1990  135  435  132      Mike   Scioscia  1233333  0.348089\n",
       "barremi01    1999  126  433   59   Michael    Barrett   200500  0.345416\n",
       "steinte01    1996  145  514  137     Terry  Steinbach  4200000  0.341506"
      ]
     },
     "execution_count": 20,
     "metadata": {},
     "output_type": "execute_result"
    }
   ],
   "source": [
    "hit_90s_c.head()"
   ]
  },
  {
   "cell_type": "code",
   "execution_count": 25,
   "metadata": {
    "collapsed": false
   },
   "outputs": [],
   "source": [
    "pitchers_90s = everything_90s.drop(everything_90s[everything_90s.G_p <= 1].index)\n",
    "pitchers_90s = pitchers_90s.drop([\"G_c\", \"G_1b\", \"G_c\", \"G_2b\", \"G_3b\", \"G_ss\", \"G_lf\", \"G_cf\", \"G_rf\", \"G_of\"], axis=1)\n",
    "pitchers_90s = pd.merge(pitchers_90s, master, how=\"inner\", left_index=True, right_on=\"playerID\")\n",
    "pitchers_90s = pitchers_90s.set_index([\"playerID\"])\n",
    "pitchers_90s = pitchers_90s.sort(columns=\"OBP\", axis=0, ascending=False)"
   ]
  },
  {
   "cell_type": "code",
   "execution_count": 27,
   "metadata": {
    "collapsed": false
   },
   "outputs": [],
   "source": [
    "pitchers_90s = pitchers_90s.drop(pitchers_90s[pitchers_90s.AB < 10].index)"
   ]
  },
  {
   "cell_type": "code",
   "execution_count": 38,
   "metadata": {
    "collapsed": false
   },
   "outputs": [
    {
     "name": "stdout",
     "output_type": "stream",
     "text": [
      "           yearID    G   AB  G_rf nameFirst   nameLast   salary       OBP\n",
      "playerID                                                                 \n",
      "oneilpa01    1994  103  368    90      Paul    O'Neill  3858334  0.460497\n",
      "gwynnto01    1994  110  419   105      Tony      Gwynn  3633333  0.453586\n",
      "oneilpa01    1996  150  546   146      Paul    O'Neill  5300000  0.410606\n",
      "gwynnto01    1997  149  592   143      Tony      Gwynn  4575000  0.409231\n",
      "higgibo02    1996  130  440    57     Bobby  Higginson   170000  0.404297\n",
      "gwynnto01    1995  135  535   133      Tony      Gwynn  4658334  0.403813\n",
      "gwynnto01    1996  116  451   111      Tony      Gwynn  4300000  0.400402\n",
      "oneilpa01    1997  149  553   146      Paul    O'Neill  5500000  0.398744\n",
      "gwynnto01    1993  122  489   121      Tony      Gwynn  4333333  0.397749\n",
      "oneilpa01    1995  127  460   107      Paul    O'Neill  2850000  0.386740\n",
      "gwynnto01    1999  111  411   104      Tony      Gwynn  4400000  0.381166\n",
      "higgibo02    1997  146  546    56     Bobby  Higginson   375000  0.378812\n",
      "oneilpa01    1998  152  602   150      Paul    O'Neill  5500000  0.372024\n",
      "gwynnto01    1992  128  520   127      Tony      Gwynn  2025000  0.370826\n",
      "oneilpa01    1993  141  498   103      Paul    O'Neill  3833333  0.367459\n",
      "gwynnto01    1998  127  461   116      Tony      Gwynn  4050000  0.364356\n",
      "lemonch01    1990  104  322    94      Chet      Lemon   828571  0.359043\n",
      "nixontr01    1999  124  381   121      Trot      Nixon   200000  0.357303\n",
      "gwynnto01    1990  141  573   141      Tony      Gwynn  1066667  0.356913\n",
      "gwynnto01    1991  134  530   134      Tony      Gwynn  2162500  0.355009\n",
      "higgibo02    1998  157  612   136     Bobby  Higginson  2425000  0.354745\n",
      "oneilpa01    1999  153  597   151      Paul    O'Neill  6250000  0.352593\n",
      "higgibo02    1999  107  377    88     Bobby  Higginson  3825000  0.350562\n",
      "oneilpa01    1991  152  532   150      Paul    O'Neill   975000  0.345964\n",
      "oneilpa01    1992  148  496   143      Paul    O'Neill  2833333  0.345955\n",
      "oneilpa01    1990  145  503   141      Paul    O'Neill   625000  0.339254\n",
      "higgibo02    1995  131  410    67     Bobby  Higginson   109000  0.328512\n",
      "kotsama01    1998  154  578   107      Mark     Kotsay   171000  0.318182\n",
      "kotsama01    1999  148  495   129      Mark     Kotsay   280000  0.305816\n",
      "mosesjo01    1990  115  172    52      John      Moses   395000  0.302564\n",
      "wilsogl01    1990  118  368    92     Glenn     Wilson   750000  0.293233\n"
     ]
    }
   ],
   "source": [
    "with pd.option_context('display.max_rows', 999, 'display.max_columns', 20):\n",
    "    print(hit_90s_rf)"
   ]
  },
  {
   "cell_type": "code",
   "execution_count": null,
   "metadata": {
    "collapsed": true
   },
   "outputs": [],
   "source": []
  }
 ],
 "metadata": {
  "kernelspec": {
   "display_name": "Python 3",
   "language": "python",
   "name": "python3"
  },
  "language_info": {
   "codemirror_mode": {
    "name": "ipython",
    "version": 3
   },
   "file_extension": ".py",
   "mimetype": "text/x-python",
   "name": "python",
   "nbconvert_exporter": "python",
   "pygments_lexer": "ipython3",
   "version": "3.5.0"
  }
 },
 "nbformat": 4,
 "nbformat_minor": 0
}
