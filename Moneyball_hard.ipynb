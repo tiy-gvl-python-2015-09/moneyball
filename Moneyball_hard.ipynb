{
 "cells": [
  {
   "cell_type": "code",
   "execution_count": 1,
   "metadata": {
    "collapsed": true
   },
   "outputs": [],
   "source": [
    "import pandas as pd\n",
    "import locale\n",
    "import matplotlib.pyplot as plt\n",
    "%matplotlib inline"
   ]
  },
  {
   "cell_type": "code",
   "execution_count": 2,
   "metadata": {
    "collapsed": true
   },
   "outputs": [],
   "source": [
    "inflation_dict = {1985: 2.2, 1986: 2.16, 1987: 2.08, 1988: 2.0, 1989: 1.91, 1990: 1.81, 1991: 1.74, 1992: 1.69,\n",
    "                  1993: 1.64, 1994: 1.6, 1995: 1.55, 1996: 1.51, 1997: 1.47, 1998: 1.45, 1999: 1.42, 2000: 1.37,\n",
    "                  2001: 1.34, 2002: 1.32, 2003: 1.29, 2004: 1.25, 2005: 1.21, 2006: 1.17, 2007: 1.14, 2008: 1.1,\n",
    "                  2009: 1.1, 2010: 1.09, 2011: 1.05, 2012: 1.03, 2013: 1.02, 2014: 1.0}"
   ]
  },
  {
   "cell_type": "code",
   "execution_count": 3,
   "metadata": {
    "collapsed": true
   },
   "outputs": [],
   "source": [
    "batting = pd.read_csv(\"data/batting.csv\")\n",
    "batting = batting[[\"playerID\", \"AB\", \"H\", \"BB\", \"HBP\", \"SF\", \"yearID\"]]\n",
    "\n",
    "pitching = pd.read_csv(\"data/Pitching.csv\")\n",
    "pitching = pitching[[\"playerID\", \"yearID\", \"W\", \"L\", \"ERA\"]]\n",
    "\n",
    "position = pd.read_csv(\"data/Appearances.csv\")\n",
    "position = position[[\"playerID\",\"teamID\", \"yearID\",\"G_all\", \"G_p\", \"G_c\", \"G_1b\", \"G_2b\", \"G_3b\",\n",
    "                     \"G_ss\", \"G_lf\", \"G_cf\", \"G_rf\", \"G_of\"]]\n",
    "\n",
    "name = pd.read_csv(\"data/Master.csv\")\n",
    "name = name[[\"playerID\", \"nameLast\", \"nameGiven\"]]\n",
    "\n",
    "salary = pd.read_csv(\"data/Salaries.csv\")\n",
    "salary = salary[[\"playerID\", \"salary\", \"yearID\"]]"
   ]
  },
  {
   "cell_type": "code",
   "execution_count": 4,
   "metadata": {
    "collapsed": true
   },
   "outputs": [],
   "source": [
    "master_list = pd.merge(batting, position, how=\"outer\", on = [\"playerID\", \"yearID\"])\n",
    "master_list = pd.merge(master_list, pitching, how=\"outer\", on = [\"playerID\", \"yearID\"])\n",
    "master_list = pd.merge(master_list, salary, how=\"outer\", on = [\"playerID\", \"yearID\"])\n",
    "master_list = pd.merge(master_list, name, how=\"outer\", on = \"playerID\")\n",
    "master_list.index = master_list.pop(\"playerID\")\n",
    "master_list.index = master_list.pop(\"nameLast\")\n",
    "master_list = master_list[master_list.yearID >= 1985]\n",
    "master_list = master_list[pd.notnull(master_list['salary'])]"
   ]
  },
  {
   "cell_type": "code",
   "execution_count": 5,
   "metadata": {
    "collapsed": false
   },
   "outputs": [
    {
     "name": "stderr",
     "output_type": "stream",
     "text": [
      "/Users/MatthewBarnette/iron_yard_hw/moneyball/.direnv/python-3.5.0/lib/python3.5/site-packages/ipykernel/__main__.py:3: SettingWithCopyWarning: \n",
      "A value is trying to be set on a copy of a slice from a DataFrame\n",
      "\n",
      "See the the caveats in the documentation: http://pandas.pydata.org/pandas-docs/stable/indexing.html#indexing-view-versus-copy\n",
      "  app.launch_new_instance()\n"
     ]
    }
   ],
   "source": [
    "master_list['infl_sal'] = 0\n",
    "for row in range(len(master_list.yearID)):\n",
    "    master_list['infl_sal'][row] = master_list.salary[row] * inflation_dict[master_list.yearID[row]]"
   ]
  },
  {
   "cell_type": "code",
   "execution_count": 6,
   "metadata": {
    "collapsed": true
   },
   "outputs": [],
   "source": [
    "pitchers = master_list[master_list.G_p >= 32]\n",
    "pitchers.insert(3, \"POS\", \"P\")\n",
    "\n",
    "catchers = master_list[master_list.G_c >= 81]\n",
    "catchers.insert(3, \"POS\", \"C\")\n",
    "\n",
    "first_base = master_list[master_list.G_1b >= 81]\n",
    "first_base.insert(3, \"POS\", \"1B\")\n",
    "\n",
    "second_base = master_list[master_list.G_2b >= 81]\n",
    "second_base.insert(3, \"POS\", \"2B\")\n",
    "\n",
    "third_base = master_list[master_list.G_3b >= 81]\n",
    "third_base.insert(3, \"POS\", \"3B\")\n",
    "\n",
    "short_stop = master_list[master_list.G_ss >= 81]\n",
    "short_stop.insert(3, \"POS\", \"SS\")\n",
    "\n",
    "left_field = master_list[master_list.G_lf >= 81]\n",
    "left_field.insert(3, \"POS\", \"LF\")\n",
    "\n",
    "center_field = master_list[master_list.G_cf >= 81]\n",
    "center_field.insert(3, \"POS\", \"CF\")\n",
    "\n",
    "right_field = master_list[master_list.G_rf >= 81]\n",
    "right_field.insert(3, \"POS\", \"RF\")"
   ]
  },
  {
   "cell_type": "code",
   "execution_count": 7,
   "metadata": {
    "collapsed": false
   },
   "outputs": [],
   "source": [
    "pitchers = pitchers.dropna(how=\"any\")\n",
    "pitchers = pitchers.sort(columns = \"yearID\", axis = 0, ascending = True)"
   ]
  },
  {
   "cell_type": "code",
   "execution_count": 8,
   "metadata": {
    "collapsed": true
   },
   "outputs": [],
   "source": [
    "master_list = pd.concat([catchers, first_base, second_base, third_base, short_stop, left_field, center_field,\n",
    "                         right_field])\n",
    "for_averages = pd.concat([pitchers, catchers, first_base, second_base, third_base, short_stop, left_field,\n",
    "                          center_field, right_field])"
   ]
  },
  {
   "cell_type": "code",
   "execution_count": 9,
   "metadata": {
    "collapsed": true
   },
   "outputs": [],
   "source": [
    "master_list = master_list.drop([\"G_all\", \"G_p\", \"G_c\", \"G_1b\", \"G_2b\", \"G_3b\", \"G_ss\", \"G_lf\", \"G_cf\", \"G_rf\",\n",
    "                                \"G_of\", \"W\", \"L\", \"ERA\"], axis=1)\n",
    "\n",
    "for_averages = for_averages.drop([\"G_all\", \"G_p\", \"G_c\", \"G_1b\", \"G_2b\", \"G_3b\", \"G_ss\", \"G_lf\", \"G_cf\", \"G_rf\",\n",
    "                                  \"G_of\", \"W\", \"L\", \"ERA\"], axis=1)\n",
    "\n",
    "pitchers = pitchers.drop([\"G_all\", \"G_p\", \"G_c\", \"G_1b\", \"G_2b\", \"G_3b\", \"G_ss\", \"G_lf\", \"G_cf\", \"G_rf\", \"G_of\"],\n",
    "                         axis=1)"
   ]
  },
  {
   "cell_type": "code",
   "execution_count": 10,
   "metadata": {
    "collapsed": true
   },
   "outputs": [],
   "source": [
    "pitchers = pitchers.sort(columns = \"yearID\", axis = 0, ascending = True)\n",
    "pitchers = pitchers.dropna(how=\"any\")\n",
    "\n",
    "master_list = master_list.sort(columns=\"yearID\", axis = 0, ascending = True)\n",
    "master_list = master_list.dropna(how=\"any\")\n",
    "\n",
    "for_averages = for_averages.sort(columns=\"yearID\", axis = 0, ascending = True)\n",
    "for_averages = for_averages.dropna(how=\"any\")"
   ]
  },
  {
   "cell_type": "code",
   "execution_count": 11,
   "metadata": {
    "collapsed": true
   },
   "outputs": [],
   "source": [
    "master_list[\"OBA\"] = (master_list.H + master_list.BB + master_list.HBP)/(master_list.AB + master_list.BB + master_list.HBP + master_list.SF)\n",
    "pitchers[\"OBA\"] = (pitchers.H + pitchers.BB + pitchers.HBP)/(pitchers.AB + pitchers.BB + pitchers.HBP + pitchers.SF)\n",
    "for_averages[\"OBA\"] = (for_averages.H + for_averages.BB + for_averages.HBP)/(for_averages.AB + for_averages.BB + for_averages.HBP + for_averages.SF)"
   ]
  },
  {
   "cell_type": "code",
   "execution_count": 12,
   "metadata": {
    "collapsed": true
   },
   "outputs": [],
   "source": [
    "pitchers = pitchers.dropna(how=\"any\")\n",
    "pitchers = pitchers[pitchers.OBA != 0.0]\n",
    "pitchers = pitchers[pitchers.AB >= 50]\n",
    "pitchers = pitchers.drop_duplicates()\n",
    "pitchers = pitchers.sort(columns=\"OBA\", axis=0, ascending=False)\n",
    "\n",
    "master_list = master_list.dropna(how=\"any\")\n",
    "master_list = master_list[master_list.OBA != 0.0]\n",
    "master_list = master_list[master_list.AB >= 300]\n",
    "master_list = master_list.drop_duplicates()\n",
    "master_list = master_list.sort(columns=\"OBA\", axis=0, ascending=False)\n",
    "\n",
    "for_averages = for_averages.dropna(how=\"any\")"
   ]
  },
  {
   "cell_type": "code",
   "execution_count": 13,
   "metadata": {
    "collapsed": true
   },
   "outputs": [],
   "source": [
    "std_OBA = for_averages[\"OBA\"].std(axis=0)\n",
    "average_OBA = for_averages[\"OBA\"].mean(axis=0)\n",
    "std_salary = for_averages[\"infl_sal\"].std(axis=0)\n",
    "average_salary = for_averages[\"infl_sal\"].mean(axis=0)"
   ]
  },
  {
   "cell_type": "code",
   "execution_count": 14,
   "metadata": {
    "collapsed": true
   },
   "outputs": [],
   "source": [
    "master_list[\"z_OBA\"] = (master_list.OBA - average_OBA)/std_OBA\n",
    "master_list[\"z_infl_sal\"] = (master_list.infl_sal - average_salary)/std_salary\n",
    "\n",
    "pitchers[\"z_OBA\"] = (pitchers.OBA - average_OBA)/std_OBA\n",
    "pitchers[\"z_infl_sal\"] = (pitchers.infl_sal - average_salary)/std_salary"
   ]
  },
  {
   "cell_type": "code",
   "execution_count": 15,
   "metadata": {
    "collapsed": true
   },
   "outputs": [],
   "source": [
    "master_list[\"z_OBA_sal\"] = master_list[\"z_OBA\"] - master_list[\"z_infl_sal\"]\n",
    "\n",
    "pitchers[\"z_OBA_sal\"] = pitchers[\"z_OBA\"] - pitchers[\"z_infl_sal\"]"
   ]
  },
  {
   "cell_type": "code",
   "execution_count": 16,
   "metadata": {
    "collapsed": true
   },
   "outputs": [],
   "source": [
    "master_list = master_list.sort(columns=\"z_OBA_sal\", axis = 0, ascending = False)\n",
    "master_list = master_list[master_list.z_OBA_sal > 0.0]\n",
    "\n",
    "pitchers = pitchers.sort(columns=\"z_OBA_sal\", axis = 0, ascending = False)\n",
    "pitchers = pitchers[pitchers.W > 10]\n",
    "pitchers = pitchers[pitchers.W > pitchers.L]"
   ]
  },
  {
   "cell_type": "code",
   "execution_count": 17,
   "metadata": {
    "collapsed": true
   },
   "outputs": [],
   "source": [
    "catchers = master_list[master_list[\"POS\"] == \"C\"]\n",
    "first_base = master_list[master_list[\"POS\"] == \"1B\"]\n",
    "second_base = master_list[master_list[\"POS\"] == \"2B\"]\n",
    "third_base = master_list[master_list[\"POS\"] == \"3B\"]\n",
    "short_stop = master_list[master_list[\"POS\"] == \"SS\"]\n",
    "left_field = master_list[master_list[\"POS\"] == \"LF\"]\n",
    "center_field = master_list[master_list[\"POS\"] == \"CF\"]\n",
    "right_field = master_list[master_list[\"POS\"] == \"RF\"]"
   ]
  },
  {
   "cell_type": "code",
   "execution_count": 18,
   "metadata": {
    "collapsed": true
   },
   "outputs": [],
   "source": [
    "my_team = pd.concat([pitchers.head(1), catchers.head(1), first_base.head(1), second_base.head(1), third_base.head(1), short_stop.head(1), left_field.head(1), center_field.head(1), right_field.head(1)])\n",
    "my_team_avg_OBA = my_team[\"OBA\"].mean(axis=0)\n",
    "my_team_avg_sal = my_team[\"infl_sal\"].mean(axis=0)"
   ]
  },
  {
   "cell_type": "code",
   "execution_count": 19,
   "metadata": {
    "collapsed": false
   },
   "outputs": [
    {
     "data": {
      "text/plain": [
       "<matplotlib.collections.LineCollection at 0x112d7c2e8>"
      ]
     },
     "execution_count": 19,
     "metadata": {},
     "output_type": "execute_result"
    },
    {
     "name": "stderr",
     "output_type": "stream",
     "text": [
      "/Users/MatthewBarnette/iron_yard_hw/moneyball/.direnv/python-3.5.0/lib/python3.5/site-packages/matplotlib/collections.py:590: FutureWarning: elementwise comparison failed; returning scalar instead, but in the future will perform elementwise comparison\n",
      "  if self._edgecolors == str('face'):\n"
     ]
    },
    {
     "data": {
      "image/png": "[encoded data removed]",
      "text/plain": [
       "<matplotlib.figure.Figure at 0x111dbefd0>"
      ]
     },
     "metadata": {},
     "output_type": "display_data"
    }
   ],
   "source": [
    "my_teams_sal = my_team[[\"infl_sal\"]].plot(kind=\"bar\", figsize=(20, 10))\n",
    "xmin, xmax = my_teams_sal.get_xlim()\n",
    "my_teams_sal.hlines(y = [my_team_avg_sal, average_salary],xmin=xmin, xmax=xmax, color=['r', 'y'])"
   ]
  },
  {
   "cell_type": "markdown",
   "metadata": {},
   "source": [
    "In the above graph the yellow line is the average inflated salary (to 2014 standards) across the MLB from 1985 to 2014, the red line is my teams average inflated salary."
   ]
  },
  {
   "cell_type": "code",
   "execution_count": 20,
   "metadata": {
    "collapsed": false
   },
   "outputs": [
    {
     "data": {
      "text/plain": [
       "<matplotlib.collections.LineCollection at 0x112ddab00>"
      ]
     },
     "execution_count": 20,
     "metadata": {},
     "output_type": "execute_result"
    },
    {
     "name": "stderr",
     "output_type": "stream",
     "text": [
      "/Users/MatthewBarnette/iron_yard_hw/moneyball/.direnv/python-3.5.0/lib/python3.5/site-packages/matplotlib/collections.py:590: FutureWarning: elementwise comparison failed; returning scalar instead, but in the future will perform elementwise comparison\n",
      "  if self._edgecolors == str('face'):\n"
     ]
    },
    {
     "data": {
      "image/png": "[encoded data removed]",
      "text/plain": [
       "<matplotlib.figure.Figure at 0x112dda828>"
      ]
     },
     "metadata": {},
     "output_type": "display_data"
    }
   ],
   "source": [
    "my_teams_OBA = my_team[[\"OBA\"]].plot(kind=\"bar\", figsize=(20, 10))\n",
    "xmin, xmax = my_teams_OBA.get_xlim()\n",
    "my_teams_OBA.hlines(y = [my_team_avg_OBA, average_OBA],xmin=xmin, xmax=xmax, color=['r', 'y'])"
   ]
  },
  {
   "cell_type": "markdown",
   "metadata": {},
   "source": [
    "In the above graph the yellow line is the OBA across the MLB for 1985-2014, the red line is my teams OBA."
   ]
  },
  {
   "cell_type": "code",
   "execution_count": 21,
   "metadata": {
    "collapsed": false
   },
   "outputs": [
    {
     "data": {
      "text/html": [
       "<div>\n",
       "<table border=\"1\" class=\"dataframe\">\n",
       "  <thead>\n",
       "    <tr style=\"text-align: right;\">\n",
       "      <th></th>\n",
       "      <th>AB</th>\n",
       "      <th>BB</th>\n",
       "      <th>ERA</th>\n",
       "      <th>H</th>\n",
       "      <th>HBP</th>\n",
       "      <th>L</th>\n",
       "      <th>OBA</th>\n",
       "      <th>POS</th>\n",
       "      <th>SF</th>\n",
       "      <th>W</th>\n",
       "      <th>infl_sal</th>\n",
       "      <th>nameGiven</th>\n",
       "      <th>salary</th>\n",
       "      <th>teamID</th>\n",
       "      <th>yearID</th>\n",
       "      <th>z_OBA</th>\n",
       "      <th>z_OBA_sal</th>\n",
       "      <th>z_infl_sal</th>\n",
       "    </tr>\n",
       "    <tr>\n",
       "      <th>nameLast</th>\n",
       "      <th></th>\n",
       "      <th></th>\n",
       "      <th></th>\n",
       "      <th></th>\n",
       "      <th></th>\n",
       "      <th></th>\n",
       "      <th></th>\n",
       "      <th></th>\n",
       "      <th></th>\n",
       "      <th></th>\n",
       "      <th></th>\n",
       "      <th></th>\n",
       "      <th></th>\n",
       "      <th></th>\n",
       "      <th></th>\n",
       "      <th></th>\n",
       "      <th></th>\n",
       "      <th></th>\n",
       "    </tr>\n",
       "  </thead>\n",
       "  <tbody>\n",
       "    <tr>\n",
       "      <th>Jennings</th>\n",
       "      <td>62</td>\n",
       "      <td>3</td>\n",
       "      <td>4.52</td>\n",
       "      <td>19</td>\n",
       "      <td>1</td>\n",
       "      <td>8</td>\n",
       "      <td>0.348485</td>\n",
       "      <td>P</td>\n",
       "      <td>0</td>\n",
       "      <td>16</td>\n",
       "      <td>271920</td>\n",
       "      <td>Jason Ryan</td>\n",
       "      <td>206000</td>\n",
       "      <td>COL</td>\n",
       "      <td>2002</td>\n",
       "      <td>0.470155</td>\n",
       "      <td>1.195310</td>\n",
       "      <td>-0.725155</td>\n",
       "    </tr>\n",
       "    <tr>\n",
       "      <th>Mauer</th>\n",
       "      <td>521</td>\n",
       "      <td>79</td>\n",
       "      <td>NaN</td>\n",
       "      <td>181</td>\n",
       "      <td>1</td>\n",
       "      <td>NaN</td>\n",
       "      <td>0.429276</td>\n",
       "      <td>C</td>\n",
       "      <td>7</td>\n",
       "      <td>NaN</td>\n",
       "      <td>468000</td>\n",
       "      <td>Joseph Patrick</td>\n",
       "      <td>400000</td>\n",
       "      <td>MIN</td>\n",
       "      <td>2006</td>\n",
       "      <td>0.970651</td>\n",
       "      <td>1.650775</td>\n",
       "      <td>-0.680124</td>\n",
       "    </tr>\n",
       "    <tr>\n",
       "      <th>Howard</th>\n",
       "      <td>581</td>\n",
       "      <td>108</td>\n",
       "      <td>NaN</td>\n",
       "      <td>182</td>\n",
       "      <td>9</td>\n",
       "      <td>NaN</td>\n",
       "      <td>0.424716</td>\n",
       "      <td>1B</td>\n",
       "      <td>6</td>\n",
       "      <td>NaN</td>\n",
       "      <td>415350</td>\n",
       "      <td>Ryan James</td>\n",
       "      <td>355000</td>\n",
       "      <td>PHI</td>\n",
       "      <td>2006</td>\n",
       "      <td>0.942400</td>\n",
       "      <td>1.634615</td>\n",
       "      <td>-0.692215</td>\n",
       "    </tr>\n",
       "    <tr>\n",
       "      <th>Castillo</th>\n",
       "      <td>539</td>\n",
       "      <td>78</td>\n",
       "      <td>NaN</td>\n",
       "      <td>180</td>\n",
       "      <td>0</td>\n",
       "      <td>NaN</td>\n",
       "      <td>0.418152</td>\n",
       "      <td>2B</td>\n",
       "      <td>0</td>\n",
       "      <td>NaN</td>\n",
       "      <td>534300</td>\n",
       "      <td>Luis Antonio</td>\n",
       "      <td>390000</td>\n",
       "      <td>FLO</td>\n",
       "      <td>2000</td>\n",
       "      <td>0.901739</td>\n",
       "      <td>1.566637</td>\n",
       "      <td>-0.664897</td>\n",
       "    </tr>\n",
       "    <tr>\n",
       "      <th>Cabrera</th>\n",
       "      <td>576</td>\n",
       "      <td>86</td>\n",
       "      <td>NaN</td>\n",
       "      <td>195</td>\n",
       "      <td>10</td>\n",
       "      <td>NaN</td>\n",
       "      <td>0.430473</td>\n",
       "      <td>3B</td>\n",
       "      <td>4</td>\n",
       "      <td>NaN</td>\n",
       "      <td>552240</td>\n",
       "      <td>Jose Miguel</td>\n",
       "      <td>472000</td>\n",
       "      <td>FLO</td>\n",
       "      <td>2006</td>\n",
       "      <td>0.978067</td>\n",
       "      <td>1.638844</td>\n",
       "      <td>-0.660777</td>\n",
       "    </tr>\n",
       "    <tr>\n",
       "      <th>Rodriguez</th>\n",
       "      <td>601</td>\n",
       "      <td>59</td>\n",
       "      <td>NaN</td>\n",
       "      <td>215</td>\n",
       "      <td>4</td>\n",
       "      <td>NaN</td>\n",
       "      <td>0.414307</td>\n",
       "      <td>SS</td>\n",
       "      <td>7</td>\n",
       "      <td>NaN</td>\n",
       "      <td>667924</td>\n",
       "      <td>Alexander Emmanuel</td>\n",
       "      <td>442334</td>\n",
       "      <td>SEA</td>\n",
       "      <td>1996</td>\n",
       "      <td>0.877918</td>\n",
       "      <td>1.512128</td>\n",
       "      <td>-0.634210</td>\n",
       "    </tr>\n",
       "    <tr>\n",
       "      <th>Daniels</th>\n",
       "      <td>368</td>\n",
       "      <td>60</td>\n",
       "      <td>NaN</td>\n",
       "      <td>123</td>\n",
       "      <td>1</td>\n",
       "      <td>NaN</td>\n",
       "      <td>0.428904</td>\n",
       "      <td>LF</td>\n",
       "      <td>0</td>\n",
       "      <td>NaN</td>\n",
       "      <td>179920</td>\n",
       "      <td>Kalvoski</td>\n",
       "      <td>86500</td>\n",
       "      <td>CIN</td>\n",
       "      <td>1987</td>\n",
       "      <td>0.968347</td>\n",
       "      <td>1.714631</td>\n",
       "      <td>-0.746283</td>\n",
       "    </tr>\n",
       "    <tr>\n",
       "      <th>Trout</th>\n",
       "      <td>589</td>\n",
       "      <td>110</td>\n",
       "      <td>NaN</td>\n",
       "      <td>190</td>\n",
       "      <td>9</td>\n",
       "      <td>NaN</td>\n",
       "      <td>0.431564</td>\n",
       "      <td>CF</td>\n",
       "      <td>8</td>\n",
       "      <td>NaN</td>\n",
       "      <td>520200</td>\n",
       "      <td>Michael Nelson</td>\n",
       "      <td>510000</td>\n",
       "      <td>LAA</td>\n",
       "      <td>2013</td>\n",
       "      <td>0.984825</td>\n",
       "      <td>1.652960</td>\n",
       "      <td>-0.668136</td>\n",
       "    </tr>\n",
       "    <tr>\n",
       "      <th>Abreu</th>\n",
       "      <td>546</td>\n",
       "      <td>109</td>\n",
       "      <td>NaN</td>\n",
       "      <td>183</td>\n",
       "      <td>3</td>\n",
       "      <td>NaN</td>\n",
       "      <td>0.445619</td>\n",
       "      <td>RF</td>\n",
       "      <td>4</td>\n",
       "      <td>NaN</td>\n",
       "      <td>568000</td>\n",
       "      <td>Bob Kelly</td>\n",
       "      <td>400000</td>\n",
       "      <td>PHI</td>\n",
       "      <td>1999</td>\n",
       "      <td>1.071895</td>\n",
       "      <td>1.729053</td>\n",
       "      <td>-0.657158</td>\n",
       "    </tr>\n",
       "  </tbody>\n",
       "</table>\n",
       "</div>"
      ],
      "text/plain": [
       "            AB   BB   ERA    H  HBP   L       OBA POS  SF   W  infl_sal  \\\n",
       "nameLast                                                                  \n",
       "Jennings    62    3  4.52   19    1   8  0.348485   P   0  16    271920   \n",
       "Mauer      521   79   NaN  181    1 NaN  0.429276   C   7 NaN    468000   \n",
       "Howard     581  108   NaN  182    9 NaN  0.424716  1B   6 NaN    415350   \n",
       "Castillo   539   78   NaN  180    0 NaN  0.418152  2B   0 NaN    534300   \n",
       "Cabrera    576   86   NaN  195   10 NaN  0.430473  3B   4 NaN    552240   \n",
       "Rodriguez  601   59   NaN  215    4 NaN  0.414307  SS   7 NaN    667924   \n",
       "Daniels    368   60   NaN  123    1 NaN  0.428904  LF   0 NaN    179920   \n",
       "Trout      589  110   NaN  190    9 NaN  0.431564  CF   8 NaN    520200   \n",
       "Abreu      546  109   NaN  183    3 NaN  0.445619  RF   4 NaN    568000   \n",
       "\n",
       "                    nameGiven  salary teamID  yearID     z_OBA  z_OBA_sal  \\\n",
       "nameLast                                                                    \n",
       "Jennings           Jason Ryan  206000    COL    2002  0.470155   1.195310   \n",
       "Mauer          Joseph Patrick  400000    MIN    2006  0.970651   1.650775   \n",
       "Howard             Ryan James  355000    PHI    2006  0.942400   1.634615   \n",
       "Castillo         Luis Antonio  390000    FLO    2000  0.901739   1.566637   \n",
       "Cabrera           Jose Miguel  472000    FLO    2006  0.978067   1.638844   \n",
       "Rodriguez  Alexander Emmanuel  442334    SEA    1996  0.877918   1.512128   \n",
       "Daniels              Kalvoski   86500    CIN    1987  0.968347   1.714631   \n",
       "Trout          Michael Nelson  510000    LAA    2013  0.984825   1.652960   \n",
       "Abreu               Bob Kelly  400000    PHI    1999  1.071895   1.729053   \n",
       "\n",
       "           z_infl_sal  \n",
       "nameLast               \n",
       "Jennings    -0.725155  \n",
       "Mauer       -0.680124  \n",
       "Howard      -0.692215  \n",
       "Castillo    -0.664897  \n",
       "Cabrera     -0.660777  \n",
       "Rodriguez   -0.634210  \n",
       "Daniels     -0.746283  \n",
       "Trout       -0.668136  \n",
       "Abreu       -0.657158  "
      ]
     },
     "execution_count": 21,
     "metadata": {},
     "output_type": "execute_result"
    }
   ],
   "source": [
    "my_team"
   ]
  }
 ],
 "metadata": {
  "kernelspec": {
   "display_name": "Python 3",
   "language": "python",
   "name": "python3"
  },
  "language_info": {
   "codemirror_mode": {
    "name": "ipython",
    "version": 3
   },
   "file_extension": ".py",
   "mimetype": "text/x-python",
   "name": "python",
   "nbconvert_exporter": "python",
   "pygments_lexer": "ipython3",
   "version": "3.5.0"
  }
 },
 "nbformat": 4,
 "nbformat_minor": 0
}
