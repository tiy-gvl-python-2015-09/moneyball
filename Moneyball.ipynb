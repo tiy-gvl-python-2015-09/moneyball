{
 "cells": [
  {
   "cell_type": "code",
   "execution_count": 1,
   "metadata": {
    "collapsed": false
   },
   "outputs": [],
   "source": [
    "import pandas as pd\n",
    "import numpy as np\n",
    "import matplotlib.pyplot as plt\n",
    "%matplotlib inline"
   ]
  },
  {
   "cell_type": "code",
   "execution_count": 2,
   "metadata": {
    "collapsed": false
   },
   "outputs": [],
   "source": [
    "batting = pd.read_csv(\"data/Batting.csv\")\n",
    "salaries = pd.read_csv(\"data/Salaries.csv\")\n",
    "master = pd.read_csv(\"data/Master.csv\")\n",
    "appearances = pd.read_csv(\"data/Appearances.csv\")"
   ]
  },
  {
   "cell_type": "code",
   "execution_count": 3,
   "metadata": {
    "collapsed": false
   },
   "outputs": [],
   "source": [
    "batting = batting[batting.yearID.isin([1988])]\n",
    "salaries = salaries[salaries.yearID.isin([1988])]\n",
    "appearances = appearances[appearances.yearID.isin([1988])]\n",
    "master = master.drop([\"birthYear\", \"birthMonth\", \"birthDay\", \"birthCountry\", \"birthState\", \"birthCity\", \"deathYear\", \"deathMonth\", \"deathDay\", \"weight\", \"height\", \"bats\", \"throws\", \"debut\", \"finalGame\", \"retroID\", \"bbrefID\"], axis=1)\n",
    "master = master.drop([\"deathCountry\", \"deathState\", \"deathCity\", \"nameGiven\"], axis=1)"
   ]
  },
  {
   "cell_type": "code",
   "execution_count": 4,
   "metadata": {
    "collapsed": false
   },
   "outputs": [],
   "source": [
    "everything = pd.merge(batting, salaries, how=\"inner\", left_on=\"playerID\", right_on=\"playerID\")\n",
    "everything = pd.merge(everything, appearances, how=\"inner\", left_on=\"playerID\", right_on=\"playerID\")\n",
    "everything = everything.set_index([\"playerID\"])\n",
    "everything = everything.drop([\"stint\", \"teamID_x\", \"lgID_x\", \"yearID_y\", \"teamID_y\", \"lgID_y\"], axis=1)\n",
    "everything = everything.drop([\"yearID\", \"teamID\", \"lgID\", \"G_all\", \"GS\", \"G_batting\", \"G_defense\", \"G_pr\", \"G_ph\", \"G_dh\"], axis=1)\n",
    "everything = everything.drop([\"R\", \"2B\", \"3B\", \"HR\", \"RBI\", \"SB\", \"CS\", \"SO\", \"SH\", \"GIDP\", \"IBB\"], axis=1)\n",
    "everything[\"OBP\"] = (everything.H + everything.HBP + everything.BB) / (everything.AB + everything.BB + everything.HBP +everything.SF)\n",
    "everything = everything[pd.notnull(everything['OBP'])]\n",
    "everything = everything.drop([\"H\", \"BB\", \"HBP\", \"SF\"], axis=1)"
   ]
  },
  {
   "cell_type": "code",
   "execution_count": 5,
   "metadata": {
    "collapsed": false
   },
   "outputs": [],
   "source": [
    "everything_pitchers =everything.drop(everything[everything.G_p <= 1].index)\n",
    "everything_pitchers = everything_pitchers.drop([\"G_c\", \"G_1b\", \"G_c\", \"G_2b\", \"G_3b\", \"G_ss\", \"G_lf\", \"G_cf\", \"G_rf\", \"G_of\"], axis=1)\n",
    "everything_pitchers = pd.merge(everything_pitchers, master, how=\"inner\", left_index=True, right_on=\"playerID\")\n",
    "everything_pitchers = everything_pitchers.set_index([\"playerID\"])\n",
    "everything_pitchers = everything_pitchers.sort(columns=\"OBP\", axis=0, ascending=False)"
   ]
  },
  {
   "cell_type": "code",
   "execution_count": 6,
   "metadata": {
    "collapsed": false
   },
   "outputs": [],
   "source": [
    "everything_hitters = everything.drop(everything[everything.G < 80].index)\n",
    "everything_hitters = everything_hitters.sort(columns='OBP', axis=0, ascending=False)\n",
    "everything_hitters = pd.merge(everything_hitters, master, how=\"inner\", left_index=True, right_on=\"playerID\")\n",
    "everything_hitters = everything_hitters.set_index([\"playerID\"])"
   ]
  },
  {
   "cell_type": "code",
   "execution_count": null,
   "metadata": {
    "collapsed": true
   },
   "outputs": [],
   "source": [
    "with pd.option_context('display.max_rows', 999, 'display.max_columns', 20):\n",
    "    print(everything_pitchers)"
   ]
  },
  {
   "cell_type": "code",
   "execution_count": 7,
   "metadata": {
    "collapsed": false
   },
   "outputs": [],
   "source": [
    "everything2 = everything_hitters.drop([\"G_p\", \"G_of\", \"AB\"], axis=1)\n",
    "everything2 = everything2[[\"nameFirst\", \"nameLast\", \"OBP\", \"salary\"]]\n",
    "everything3 = everything_hitters[[\"G_c\", \"G_1b\", \"G_2b\", \"G_3b\", \"G_ss\", \"G_lf\", \"G_cf\", \"G_rf\"]]"
   ]
  },
  {
   "cell_type": "code",
   "execution_count": null,
   "metadata": {
    "collapsed": false
   },
   "outputs": [],
   "source": [
    "with pd.option_context('display.max_rows', 999, 'display.max_columns', 20):\n",
    "    print(everything2)"
   ]
  },
  {
   "cell_type": "code",
   "execution_count": null,
   "metadata": {
    "collapsed": false
   },
   "outputs": [],
   "source": [
    "with pd.option_context('display.max_rows', 999, 'display.max_columns', 20):\n",
    "    print(everything3)"
   ]
  },
  {
   "cell_type": "code",
   "execution_count": 8,
   "metadata": {
    "collapsed": false
   },
   "outputs": [
    {
     "data": {
      "text/html": [
       "<div>\n",
       "<table border=\"1\" class=\"dataframe\">\n",
       "  <thead>\n",
       "    <tr style=\"text-align: right;\">\n",
       "      <th></th>\n",
       "      <th>OBP</th>\n",
       "      <th>Player</th>\n",
       "      <th>Salary</th>\n",
       "    </tr>\n",
       "  </thead>\n",
       "  <tbody>\n",
       "    <tr>\n",
       "      <th>0</th>\n",
       "      <td>0.386</td>\n",
       "      <td>Will Clark</td>\n",
       "      <td>320000</td>\n",
       "    </tr>\n",
       "    <tr>\n",
       "      <th>1</th>\n",
       "      <td>0.350</td>\n",
       "      <td>Jose Oquendo</td>\n",
       "      <td>275000</td>\n",
       "    </tr>\n",
       "    <tr>\n",
       "      <th>2</th>\n",
       "      <td>0.386</td>\n",
       "      <td>Kevin Sietzer</td>\n",
       "      <td>175000</td>\n",
       "    </tr>\n",
       "    <tr>\n",
       "      <th>3</th>\n",
       "      <td>0.380</td>\n",
       "      <td>Jody Reed</td>\n",
       "      <td>64500</td>\n",
       "    </tr>\n",
       "    <tr>\n",
       "      <th>4</th>\n",
       "      <td>0.416</td>\n",
       "      <td>Mike Greenwell</td>\n",
       "      <td>205000</td>\n",
       "    </tr>\n",
       "    <tr>\n",
       "      <th>5</th>\n",
       "      <td>0.367</td>\n",
       "      <td>Ellis Burks</td>\n",
       "      <td>125000</td>\n",
       "    </tr>\n",
       "    <tr>\n",
       "      <th>6</th>\n",
       "      <td>0.390</td>\n",
       "      <td>Jose Canseco</td>\n",
       "      <td>325000</td>\n",
       "    </tr>\n",
       "    <tr>\n",
       "      <th>7</th>\n",
       "      <td>0.356</td>\n",
       "      <td>Geno Petralli</td>\n",
       "      <td>135000</td>\n",
       "    </tr>\n",
       "    <tr>\n",
       "      <th>8</th>\n",
       "      <td>0.308</td>\n",
       "      <td>Sid Fernandez</td>\n",
       "      <td>580000</td>\n",
       "    </tr>\n",
       "  </tbody>\n",
       "</table>\n",
       "</div>"
      ],
      "text/plain": [
       "     OBP          Player  Salary\n",
       "0  0.386      Will Clark  320000\n",
       "1  0.350    Jose Oquendo  275000\n",
       "2  0.386   Kevin Sietzer  175000\n",
       "3  0.380       Jody Reed   64500\n",
       "4  0.416  Mike Greenwell  205000\n",
       "5  0.367     Ellis Burks  125000\n",
       "6  0.390    Jose Canseco  325000\n",
       "7  0.356   Geno Petralli  135000\n",
       "8  0.308   Sid Fernandez  580000"
      ]
     },
     "execution_count": 8,
     "metadata": {},
     "output_type": "execute_result"
    }
   ],
   "source": [
    "my_team = {\"Player\": [\"Will Clark\", \"Jose Oquendo\", \"Kevin Sietzer\", \"Jody Reed\", \"Mike Greenwell\", \"Ellis Burks\", \"Jose Canseco\", \"Geno Petralli\", \"Sid Fernandez\"], \"Salary\": [320000, 275000, 175000, 64500, 205000, 125000, 325000, 135000, 580000], \"OBP\": [0.386, 0.350, 0.386, 0.380, 0.416, 0.367, 0.390, 0.356, 0.308]}\n",
    "team_frame = pd.DataFrame.from_dict(my_team)\n",
    "team_frame"
   ]
  },
  {
   "cell_type": "code",
   "execution_count": 10,
   "metadata": {
    "collapsed": false
   },
   "outputs": [
    {
     "data": {
      "text/plain": [
       "OBP            0.371000\n",
       "Salary    244944.444444\n",
       "dtype: float64"
      ]
     },
     "execution_count": 10,
     "metadata": {},
     "output_type": "execute_result"
    }
   ],
   "source": [
    "team_frame.mean()"
   ]
  },
  {
   "cell_type": "code",
   "execution_count": 11,
   "metadata": {
    "collapsed": false
   },
   "outputs": [],
   "source": [
    "team_avg_salary = round(244944.444444, 2)\n",
    "team_avg_obp = 0.371"
   ]
  },
  {
   "cell_type": "code",
   "execution_count": 13,
   "metadata": {
    "collapsed": false
   },
   "outputs": [
    {
     "data": {
      "text/plain": [
       "salary    453171.076923\n",
       "dtype: float64"
      ]
     },
     "execution_count": 13,
     "metadata": {},
     "output_type": "execute_result"
    }
   ],
   "source": [
    "salary_avg = salaries.set_index([\"yearID\"])\n",
    "salary_avg = salary_avg.drop([\"teamID\", \"lgID\", \"playerID\"], axis=1)\n",
    "mean_salary_1988 = salary_avg.mean(axis=0)\n",
    "mean_salary_1988"
   ]
  },
  {
   "cell_type": "code",
   "execution_count": 14,
   "metadata": {
    "collapsed": false
   },
   "outputs": [
    {
     "data": {
      "text/plain": [
       "453171.08"
      ]
     },
     "execution_count": 14,
     "metadata": {},
     "output_type": "execute_result"
    }
   ],
   "source": [
    "mean_salary_1988 = round(453171.076923, 2)\n",
    "mean_salary_1988"
   ]
  },
  {
   "cell_type": "code",
   "execution_count": 15,
   "metadata": {
    "collapsed": false
   },
   "outputs": [
    {
     "name": "stderr",
     "output_type": "stream",
     "text": [
      "/Users/ZSeaborn/Desktop/Homework/moneyball/.direnv/python-3.5.0/lib/python3.5/site-packages/matplotlib/collections.py:590: FutureWarning: elementwise comparison failed; returning scalar instead, but in the future will perform elementwise comparison\n",
      "  if self._edgecolors == str('face'):\n"
     ]
    },
    {
     "data": {
      "image/png": "[encoded data removed]",
      "text/plain": [
       "<matplotlib.figure.Figure at 0x10c1509e8>"
      ]
     },
     "metadata": {},
     "output_type": "display_data"
    }
   ],
   "source": [
    "team_frame.plot(x='Player', y=\"Salary\", kind=\"barh\", figsize=(10, 5), legend=True, title=\"My Team Salary by Player vs. Average MLB Player Salary in 1988\")\n",
    "plt.vlines(mean_salary_1988, ymin=0, ymax=100,color=\"red\", linestyle=\"dashed\", label=\"Average Player Salary 1988\")\n",
    "plt.legend(bbox_to_anchor=(0, -0.05))\n",
    "plt.show()"
   ]
  },
  {
   "cell_type": "code",
   "execution_count": null,
   "metadata": {
    "collapsed": true
   },
   "outputs": [],
   "source": []
  }
 ],
 "metadata": {
  "kernelspec": {
   "display_name": "Python 3",
   "language": "python",
   "name": "python3"
  },
  "language_info": {
   "codemirror_mode": {
    "name": "ipython",
    "version": 3
   },
   "file_extension": ".py",
   "mimetype": "text/x-python",
   "name": "python",
   "nbconvert_exporter": "python",
   "pygments_lexer": "ipython3",
   "version": "3.5.0"
  }
 },
 "nbformat": 4,
 "nbformat_minor": 0
}
